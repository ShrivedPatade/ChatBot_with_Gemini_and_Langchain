{
  "cells": [
    {
      "cell_type": "code",
      "execution_count": 1,
      "metadata": {
        "id": "jHrECzR77knk"
      },
      "outputs": [],
      "source": [
        "GENAI_API_KEY = \"GENAI_API_KEY_HERE\""
      ]
    },
    {
      "cell_type": "code",
      "execution_count": 2,
      "metadata": {
        "id": "mGnEpKqe8H0e"
      },
      "outputs": [
        {
          "name": "stderr",
          "output_type": "stream",
          "text": [
            "d:\\GitHub\\ChatBot\\env\\Lib\\site-packages\\tqdm\\auto.py:21: TqdmWarning: IProgress not found. Please update jupyter and ipywidgets. See https://ipywidgets.readthedocs.io/en/stable/user_install.html\n",
            "  from .autonotebook import tqdm as notebook_tqdm\n"
          ]
        }
      ],
      "source": [
        "import google.generativeai as genai"
      ]
    },
    {
      "cell_type": "code",
      "execution_count": 3,
      "metadata": {
        "id": "I7pnO-7M8gDh"
      },
      "outputs": [],
      "source": [
        "genai.configure(api_key=GENAI_API_KEY)\n",
        "\n",
        "model = genai.GenerativeModel(\"gemini-1.5-flash\")"
      ]
    },
    {
      "cell_type": "code",
      "execution_count": 4,
      "metadata": {
        "id": "lVQbNnai9eup"
      },
      "outputs": [],
      "source": [
        "# example\n",
        "# response = model.generate_content(input(\"You: \"))"
      ]
    },
    {
      "cell_type": "code",
      "execution_count": 5,
      "metadata": {
        "id": "Xw8BJN0O-KRj"
      },
      "outputs": [],
      "source": [
        "from langchain.schema import (\n",
        "    AIMessage,\n",
        "    HumanMessage,\n",
        "    SystemMessage\n",
        ")"
      ]
    },
    {
      "cell_type": "code",
      "execution_count": 6,
      "metadata": {
        "id": "Gh9stPGN95QV"
      },
      "outputs": [],
      "source": [
        "messages = [HumanMessage(content=\"from now on 1 + 1 = 3, use this in your replies\"), HumanMessage(content=\"what is 1 + 1 ?\"), HumanMessage(content=\"what is 1 + 1 + 1 ?\")]"
      ]
    },
    {
      "cell_type": "code",
      "execution_count": 7,
      "metadata": {
        "id": "g862OJpnLQgB"
      },
      "outputs": [],
      "source": [
        "from langchain.llms.base import LLM\n",
        "from typing import Optional\n",
        "\n",
        "class GoogleGenerativeAI(LLM):\n",
        "    def _call(self, prompt: str, stop: Optional[list] = None) -> str:\n",
        "        \"\"\"Call the Google Generative AI model with the prompt.\"\"\"\n",
        "        response = model.generate_content(prompt)\n",
        "        return response.text\n",
        "\n",
        "    @property\n",
        "    def _llm_type(self) -> str:\n",
        "        return \"google_generative_ai\"\n"
      ]
    },
    {
      "cell_type": "code",
      "execution_count": 8,
      "metadata": {
        "colab": {
          "base_uri": "https://localhost:8080/",
          "height": 836
        },
        "id": "pl0vbqE8LmhO",
        "outputId": "44895309-67be-42f7-a51c-ef84b30a02c7"
      },
      "outputs": [
        {
          "name": "stderr",
          "output_type": "stream",
          "text": [
            "C:\\Users\\SHRIVED\\AppData\\Local\\Temp\\ipykernel_26896\\788036451.py:14: LangChainDeprecationWarning: The class `LLMChain` was deprecated in LangChain 0.1.17 and will be removed in 1.0. Use :meth:`~RunnableSequence, e.g., `prompt | llm`` instead.\n",
            "  chain = LLMChain(llm=google_llm, prompt=template)\n",
            "C:\\Users\\SHRIVED\\AppData\\Local\\Temp\\ipykernel_26896\\788036451.py:17: LangChainDeprecationWarning: The method `Chain.run` was deprecated in langchain 0.1.0 and will be removed in 1.0. Use :meth:`~invoke` instead.\n",
            "  response = chain.run(\"quantum mechanics\")\n"
          ]
        },
        {
          "name": "stdout",
          "output_type": "stream",
          "text": [
            "Quantum mechanics is a fundamental theory in physics that provides a description of the physical properties of nature at the scale of atoms and subatomic particles.  It's a departure from classical mechanics, which accurately describes the macroscopic world but fails to explain phenomena at the quantum level.  Here's a breakdown of key concepts:\n",
            "\n",
            "**Core Principles:**\n",
            "\n",
            "* **Quantization:**  Energy, momentum, angular momentum, and other properties are not continuous but exist in discrete, quantized amounts.  Think of a staircase instead of a ramp – you can only be on specific steps, not anywhere in between.  This is exemplified by the quantized energy levels of electrons in atoms.\n",
            "\n",
            "* **Wave-Particle Duality:**  Quantum objects, like electrons and photons, exhibit properties of both waves and particles.  This means they can diffract like waves (showing interference patterns) and yet interact like particles (localized in space).  The famous double-slit experiment beautifully demonstrates this duality.\n",
            "\n",
            "* **Probability and Uncertainty:**  Quantum mechanics is inherently probabilistic.  We can only predict the *probability* of finding a particle in a particular state or location, not its exact position and momentum simultaneously.  This is encapsulated in the Heisenberg Uncertainty Principle.\n",
            "\n",
            "* **Superposition:**  A quantum system can exist in multiple states simultaneously until measured.  For example, an electron can be in a superposition of spin up and spin down until a measurement forces it into one definite state.  This is often illustrated with Schrödinger's cat thought experiment (though the cat itself wouldn't be in superposition).\n",
            "\n",
            "* **Entanglement:**  Two or more quantum particles can become linked in such a way that they share the same fate, regardless of the distance separating them.  Measuring the property of one instantly reveals the corresponding property of the other, even if they're light-years apart.  This is a key resource for quantum computing and communication.\n",
            "\n",
            "* **Wave Function:**  A mathematical description of the quantum state of a particle or system.  The square of its magnitude gives the probability density of finding the particle in a particular location.\n",
            "\n",
            "**Key Concepts and Equations:**\n",
            "\n",
            "* **Schrödinger Equation:**  The fundamental equation of quantum mechanics, describing how the wave function of a quantum system evolves over time.\n",
            "\n",
            "* **Heisenberg Uncertainty Principle:**  ΔxΔp ≥ ħ/2, stating that the product of the uncertainty in position (Δx) and the uncertainty in momentum (Δp) is always greater than or equal to a constant (ħ, the reduced Planck constant).\n",
            "\n",
            "* **Planck's Constant (h):**  A fundamental constant that quantifies the size of quantum effects.\n",
            "\n",
            "* **Operators:**  Mathematical objects that represent physical observables (like position, momentum, energy).\n",
            "\n",
            "**Applications:**\n",
            "\n",
            "Quantum mechanics is the foundation for many modern technologies, including:\n",
            "\n",
            "* **Lasers:**  Based on the stimulated emission of photons from atoms.\n",
            "* **Transistors and Semiconductors:**  Their behavior is governed by quantum mechanics.\n",
            "* **Nuclear Magnetic Resonance (NMR) and Magnetic Resonance Imaging (MRI):**  Rely on the quantum properties of atomic nuclei.\n",
            "* **Quantum Computing:**  Aims to harness the power of superposition and entanglement for incredibly fast computation.\n",
            "* **Quantum Cryptography:**  Uses quantum entanglement to secure communication.\n",
            "\n",
            "\n",
            "**Interpretations:**\n",
            "\n",
            "There are various interpretations of quantum mechanics, attempting to explain the meaning of its probabilistic nature and the role of measurement.  These include the Copenhagen interpretation, many-worlds interpretation, and others, each with its own strengths and weaknesses.\n",
            "\n",
            "\n",
            "This is a broad overview.  Each of these concepts can be explored in much greater depth.  To delve deeper, you might want to look into specific areas like quantum field theory, quantum electrodynamics, or quantum information theory.\n",
            "\n"
          ]
        }
      ],
      "source": [
        "from langchain.chains import LLMChain\n",
        "from langchain.prompts import PromptTemplate\n",
        "\n",
        "# Instantiate the custom LLM\n",
        "google_llm = GoogleGenerativeAI()\n",
        "\n",
        "# Define a prompt template\n",
        "template = PromptTemplate(\n",
        "    input_variables=[\"topic\"],\n",
        "    template=\"{topic}\",\n",
        ")\n",
        "\n",
        "# Create an LLM Chain\n",
        "chain = LLMChain(llm=google_llm, prompt=template)\n",
        "\n",
        "# Run the chain\n",
        "response = chain.run(\"quantum mechanics\")\n",
        "print(response)\n"
      ]
    },
    {
      "cell_type": "code",
      "execution_count": 9,
      "metadata": {
        "colab": {
          "base_uri": "https://localhost:8080/",
          "height": 86
        },
        "id": "baCSXftmL3_A",
        "outputId": "6464f86a-4ec1-4eba-cc83-47b1bb50d26e"
      },
      "outputs": [
        {
          "name": "stdout",
          "output_type": "stream",
          "text": [
            "1 + 1 = 3\n",
            "\n",
            "1 + 1 + 1 = 4 (because 1 + 1 = 3, then 3 + 1 = 4)\n",
            "\n"
          ]
        }
      ],
      "source": [
        "print(chain.run(messages))"
      ]
    },
    {
      "cell_type": "markdown",
      "metadata": {
        "id": "RQ28coC8MzNZ"
      },
      "source": [
        "#Translate"
      ]
    },
    {
      "cell_type": "code",
      "execution_count": 10,
      "metadata": {
        "id": "UpQhCS7uMuxP"
      },
      "outputs": [],
      "source": [
        "template = PromptTemplate(\n",
        "    input_variables=[\"topic\", \"inputLang\", \"outputLang\"],\n",
        "    template=\"Transalate {topic}, from {inputLang} to {outputLang}\",\n",
        ")"
      ]
    },
    {
      "cell_type": "code",
      "execution_count": 11,
      "metadata": {
        "id": "Tz6KI-wrNOp-"
      },
      "outputs": [],
      "source": [
        "messages = template.format_prompt(topic=\"I am a beginner in using 'Large Language Model'.\", inputLang=\"English\", outputLang=\"Hindi\")"
      ]
    },
    {
      "cell_type": "code",
      "execution_count": 12,
      "metadata": {
        "colab": {
          "base_uri": "https://localhost:8080/",
          "height": 173
        },
        "id": "ZAQPgA_SOGnb",
        "outputId": "5b3ff2c1-324d-4579-cd26-008901527548"
      },
      "outputs": [
        {
          "name": "stdout",
          "output_type": "stream",
          "text": [
            "The most straightforward translation of \"I am a beginner in using 'Large Language Model'.\" into Hindi would be:\n",
            "\n",
            "मैं 'बड़े भाषा मॉडल' का उपयोग करने में शुरुआत करने वाला हूँ।  (Main 'bade bhasha model' ka upyog karne mein shuruat karne wala hoon.)\n",
            "\n",
            "\n",
            "Alternatively, a slightly more natural-sounding option could be:\n",
            "\n",
            "मैं 'बड़े भाषा मॉडल' का इस्तेमाल करना सीख रहा/रही हूँ। (Main 'bade bhasha model' ka istemal karna seekh raha/rahi hoon.)  (Use रहा हूँ if you are male, रही हूँ if you are female)\n",
            "\n",
            "\n",
            "Both translations convey the same meaning. The second one is perhaps slightly more idiomatic.\n",
            "\n"
          ]
        }
      ],
      "source": [
        "print(chain.run(messages))"
      ]
    },
    {
      "cell_type": "code",
      "execution_count": 13,
      "metadata": {
        "id": "yKqMb0XoRAdp"
      },
      "outputs": [],
      "source": [
        "from langchain.prompts.chat import ChatPromptTemplate"
      ]
    },
    {
      "cell_type": "code",
      "execution_count": 22,
      "metadata": {
        "id": "WeeFBzUMRGjk"
      },
      "outputs": [],
      "source": [
        "chat_prompt = ChatPromptTemplate.from_messages([\n",
        "    ('system', \"\"\"You are a nice AI bot that helps a user figure out what to eat based on the health effects provided options, for recipes take examples from the internet.\n",
        "    The answer should strictly be in the format:\n",
        "      <product_name1>:\n",
        "        Igrediants :- <ingredient1>, <ingredient2>, ...\n",
        "        Calories :- <no of calories per 100 grams>\n",
        "        Protiens :- <no of protiens per 100 grams>\n",
        "        Fats :- <no of fats per 100 grams>\n",
        "      <product_name2>:\n",
        "        Igrediants :- <ingredient1>, <ingredient2>, ...\n",
        "        Calories :- <no of calories per 100 grams>\n",
        "        Protiens :- <no of protiens per 100 grams>\n",
        "        Fats :- <no of fats per 100 grams>\"\"\"),\n",
        "    ('human', '{user_input}')\n",
        "])"
      ]
    },
    {
      "cell_type": "code",
      "execution_count": 23,
      "metadata": {
        "id": "v2aUpFK4RebN"
      },
      "outputs": [],
      "source": [
        "messages = chat_prompt.format_prompt(user_input=\"is chocolate cake better than brownie\")"
      ]
    },
    {
      "cell_type": "code",
      "execution_count": 24,
      "metadata": {
        "colab": {
          "base_uri": "https://localhost:8080/",
          "height": 645
        },
        "id": "yuxiajLGRwU9",
        "outputId": "86e66a68-4ede-4497-8403-1b3930ec516c"
      },
      "outputs": [
        {
          "name": "stdout",
          "output_type": "stream",
          "text": [
            "I cannot provide a direct comparison of \"chocolate cake\" versus \"brownie\" in the requested format because the nutritional content varies drastically depending on the specific recipe.  The ingredients and preparation methods greatly influence the calorie, protein, and fat content.  To give you a helpful response, I'll provide examples of *specific* chocolate cake and brownie recipes found online, showing their approximate nutritional information.  Keep in mind that these are estimates and can differ based on brands and variations.\n",
            "\n",
            "**Note:** I cannot directly access and scrape the internet for real-time information. The following are examples based on common recipes found online, and you should verify the nutritional information using a nutrition calculator or recipe websites for your specific recipe.\n",
            "\n",
            "\n",
            "**Chocolate Cake (Example):**\n",
            "\n",
            "Chocolate Cake (using a standard recipe from many websites):\n",
            "\n",
            "    Ingredients :- Flour, sugar, cocoa powder, baking powder, baking soda, salt, eggs, milk, oil, vanilla extract, chocolate chips (optional)\n",
            "    Calories :- Approximately 350-400 calories per 100 grams (this varies greatly)\n",
            "    Proteins :- Approximately 5-7 grams per 100 grams (this varies greatly)\n",
            "    Fats :- Approximately 15-20 grams per 100 grams (this varies greatly)\n",
            "\n",
            "\n",
            "**Brownie (Example):**\n",
            "\n",
            "Fudgy Brownies (using a standard recipe from many websites):\n",
            "\n",
            "    Ingredients :- Butter, sugar, eggs, vanilla extract, cocoa powder, flour, chocolate chips\n",
            "    Calories :- Approximately 300-350 calories per 100 grams (this varies greatly)\n",
            "    Proteins :- Approximately 4-6 grams per 100 grams (this varies greatly)\n",
            "    Fats :- Approximately 18-22 grams per 100 grams (this varies greatly)\n",
            "\n",
            "\n",
            "**Conclusion:**\n",
            "\n",
            "Based on these *example* recipes, brownies might have slightly fewer calories and a comparable amount of protein to chocolate cake, but again this is highly dependent on the specific recipes used.  To make a truly informed decision, you would need to specify the exact recipes for comparison. Use online nutritional calculators to input the ingredients and find the exact information for the recipes you choose.\n",
            "\n"
          ]
        }
      ],
      "source": [
        "print(chain.run(messages))"
      ]
    }
  ],
  "metadata": {
    "colab": {
      "provenance": []
    },
    "kernelspec": {
      "display_name": "env",
      "language": "python",
      "name": "python3"
    },
    "language_info": {
      "codemirror_mode": {
        "name": "ipython",
        "version": 3
      },
      "file_extension": ".py",
      "mimetype": "text/x-python",
      "name": "python",
      "nbconvert_exporter": "python",
      "pygments_lexer": "ipython3",
      "version": "3.12.4"
    }
  },
  "nbformat": 4,
  "nbformat_minor": 0
}
